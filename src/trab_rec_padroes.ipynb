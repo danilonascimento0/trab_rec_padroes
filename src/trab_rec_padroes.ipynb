{
  "cells": [
    {
      "cell_type": "markdown",
      "metadata": {
        "id": "9u9eSyRA_gPM"
      },
      "source": [
        "## Projeto\n",
        "Classificação binária - Real ou Deepfake.\n",
        "\n",
        "---\n",
        "\n",
        "Link do desafio no Kaggle:\n",
        "https://www.kaggle.com/competitions/image-classification-real-or-ai-generated-photo/data"
      ]
    },
    {
      "cell_type": "code",
      "execution_count": null,
      "metadata": {},
      "outputs": [],
      "source": [
        "import os\n",
        "import pandas as pd"
      ]
    },
    {
      "cell_type": "markdown",
      "metadata": {},
      "source": [
        "### Open and investigate Dataset"
      ]
    },
    {
      "cell_type": "code",
      "execution_count": null,
      "metadata": {},
      "outputs": [],
      "source": [
        "from pathlib import Path\n",
        "notebook_path = Path().resolve()\n",
        "\n",
        "dataset_base_path = f\"{notebook_path.parent}/dataset/\"\n",
        "\n",
        "train_images = sorted(os.listdir(f\"{dataset_base_path}train/train\"), key=lambda x: int(os.path.splitext(x)[0]))\n",
        "test_images = sorted(os.listdir(f\"{dataset_base_path}test/test\"), key=lambda x: int(os.path.splitext(x)[0]))\n",
        "\n",
        "train_labels = pd.read_csv(f\"{dataset_base_path}train.csv\")\n",
        "test_labels = pd.read_csv(f\"{dataset_base_path}test.csv\")"
      ]
    },
    {
      "cell_type": "code",
      "execution_count": null,
      "metadata": {
        "id": "CSS8RIpysBxk"
      },
      "outputs": [],
      "source": [
        "# Imprimir imagens das flores\n",
        "\n",
        "# Dividir em treino e validação (teste esta separado)"
      ]
    },
    {
      "cell_type": "code",
      "execution_count": null,
      "metadata": {},
      "outputs": [],
      "source": [
        "# (pré-processamento, normalização, validação, modelagem, comparação)."
      ]
    }
  ],
  "metadata": {
    "colab": {
      "provenance": []
    },
    "kernelspec": {
      "display_name": ".venv",
      "language": "python",
      "name": "python3"
    },
    "language_info": {
      "codemirror_mode": {
        "name": "ipython",
        "version": 3
      },
      "file_extension": ".py",
      "mimetype": "text/x-python",
      "name": "python",
      "nbconvert_exporter": "python",
      "pygments_lexer": "ipython3",
      "version": "3.13.3"
    }
  },
  "nbformat": 4,
  "nbformat_minor": 0
}
