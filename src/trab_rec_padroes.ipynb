{
  "cells": [
    {
      "cell_type": "markdown",
      "metadata": {
        "id": "9u9eSyRA_gPM"
      },
      "source": [
        "## Projeto\n",
        "Classificação binária - Real ou Deepfake.\n",
        "\n",
        "---\n",
        "\n",
        "Link do desafio no Kaggle:\n",
        "https://www.kaggle.com/competitions/image-classification-real-or-ai-generated-photo/data"
      ]
    },
    {
      "cell_type": "code",
      "execution_count": null,
      "metadata": {},
      "outputs": [],
      "source": [
        "import os\n",
        "import pandas as pd\n",
        "from PIL import Image\n",
        "import matplotlib.pyplot as plt\n",
        "import random"
      ]
    },
    {
      "cell_type": "markdown",
      "metadata": {},
      "source": [
        "### Open and investigate Dataset"
      ]
    },
    {
      "cell_type": "code",
      "execution_count": null,
      "metadata": {},
      "outputs": [],
      "source": [
        "from pathlib import Path\n",
        "notebook_path = Path().resolve()\n",
        "\n",
        "dataset_base_path = notebook_path.parent / \"dataset/\"\n",
        "\n",
        "train_path = dataset_base_path / \"train/train\"\n",
        "test_path = dataset_base_path / \"test/test\"\n",
        "\n",
        "train_images = sorted(os.listdir(train_path), key=lambda x: int(os.path.splitext(x)[0]))\n",
        "test_images = sorted(os.listdir(test_path), key=lambda x: int(os.path.splitext(x)[0]))\n",
        "\n",
        "train_labels = pd.read_csv(dataset_base_path / \"train.csv\")\n",
        "test_labels = pd.read_csv(dataset_base_path / \"test.csv\")"
      ]
    },
    {
      "cell_type": "code",
      "execution_count": null,
      "metadata": {},
      "outputs": [],
      "source": [
        "def print_images(images, label, total_images = 6):\n",
        "    sample_images = random.sample(images, total_images)\n",
        "    \n",
        "    fig, axes = plt.subplots(1, total_images, figsize=(12, 2))\n",
        "    fig.suptitle(label, fontsize=16)\n",
        "    for ax, img_name in zip(axes.flatten(), sample_images):\n",
        "        img = Image.open(train_path / img_name)\n",
        "        ax.imshow(img)\n",
        "        ax.set_title(img_name)\n",
        "        ax.axis('off')\n",
        "\n",
        "    plt.tight_layout()\n",
        "    plt.show()"
      ]
    },
    {
      "cell_type": "code",
      "execution_count": null,
      "metadata": {},
      "outputs": [],
      "source": [
        "label_real_images = 1\n",
        "label_ai_generated = 0\n",
        "\n",
        "real_train_images = train_labels[train_labels['Label'] == label_real_images]['Image'].tolist()\n",
        "fake_train_images = train_labels[train_labels['Label'] == label_ai_generated]['Image'].tolist()\n",
        "\n",
        "print_images(images=real_train_images, label=\"Real\")\n",
        "print_images(images=fake_train_images, label=\"Ai-Gen\")"
      ]
    },
    {
      "cell_type": "code",
      "execution_count": null,
      "metadata": {},
      "outputs": [],
      "source": [
        "print(\"Check class balacing\")\n",
        "print(train_labels['Label'].value_counts().to_dict())\n",
        "\n",
        "print()\n",
        "print(f\"Train samples: {len(train_images)}\")\n",
        "print(f\"Test samples: {len(test_images)}\")\n",
        "\n",
        "print()\n",
        "print(\"Sample of Labels Table\")\n",
        "print(train_labels.head())"
      ]
    },
    {
      "cell_type": "code",
      "execution_count": null,
      "metadata": {},
      "outputs": [],
      "source": [
        "plt.figure(figsize=(4, 3))\n",
        "train_labels['Label'].value_counts().plot(kind='bar', color=['green', 'red'])\n",
        "plt.title(\"Distribution of Classes in Train Set\")\n",
        "plt.xlabel(\"Label\")\n",
        "plt.ylabel(\"Number of Images\")\n",
        "plt.xticks([0,1], ['Real (0)', 'AI-Generated (1)'], rotation=0)\n",
        "plt.tight_layout()\n",
        "plt.show()"
      ]
    },
    {
      "cell_type": "markdown",
      "metadata": {},
      "source": [
        "Como mostrado no gráfico acima, as classes estão balanceadas no conjunto de teste, isto facilita a análise e evita chances de viés de classe."
      ]
    },
    {
      "cell_type": "markdown",
      "metadata": {},
      "source": [
        "#### Pre-processamento"
      ]
    },
    {
      "cell_type": "code",
      "execution_count": null,
      "metadata": {},
      "outputs": [],
      "source": [
        "from sklearn.model_selection import train_test_split\n",
        "\n",
        "labels_dict = dict(zip(train_labels['Image'], train_labels['Label']))\n",
        "\n",
        "train_targets = [labels_dict[f] for f in train_images]\n",
        "\n",
        "X_train_img, X_val_img, y_train, y_val = train_test_split(\n",
        "    train_images, train_targets, test_size=0.2, stratify=train_targets, random_state=42\n",
        ")\n",
        "\n",
        "print(X_train_img[:5], y_train[:5])\n",
        "print(X_val_img[:5], y_val[:5])"
      ]
    },
    {
      "cell_type": "code",
      "execution_count": null,
      "metadata": {},
      "outputs": [],
      "source": [
        "import numpy as np"
      ]
    },
    {
      "cell_type": "code",
      "execution_count": null,
      "metadata": {},
      "outputs": [],
      "source": [
        "def load_images(image_list, base_path, target_size=(128, 128)):\n",
        "    data = []\n",
        "    for i, img_name in enumerate(image_list):\n",
        "        if i % 100 == 0:\n",
        "            print(f\"Loading image {i+1} of {len(image_list)}: {img_name}\")\n",
        "        img_path = base_path / img_name\n",
        "        img = Image.open(img_path).convert(\"RGB\").resize(target_size)\n",
        "        data.append(np.array(img) / 255.0)\n",
        "    return np.array(data)\n",
        "\n",
        "print(f\"Loading training images...\")\n",
        "X_train = load_images(X_train_img, train_path)\n",
        "print(f\"Loading validation images...\")\n",
        "X_val = load_images(X_val_img, train_path)\n",
        "print(f\"Loading test images...\")\n",
        "X_test = load_images(test_images, test_path)\n",
        "\n",
        "y_train = np.array(y_train)\n",
        "y_val = np.array(y_val)\n",
        "\n",
        "print(\"Train set:\", X_train.shape, y_train.shape)\n",
        "print(\"Validation set:\", X_val.shape, y_val.shape)\n",
        "print(\"Test set:\", X_test.shape)\n"
      ]
    },
    {
      "cell_type": "code",
      "execution_count": null,
      "metadata": {},
      "outputs": [],
      "source": [
        "from sklearn.ensemble import RandomForestClassifier\n",
        "from sklearn.metrics import confusion_matrix, classification_report, accuracy_score\n",
        "\n",
        "# Random Forest trabalha em 2D: [amostras, features]\n",
        "X_train_flat = X_train.reshape(X_train.shape[0], -1)\n",
        "X_val_flat = X_val.reshape(X_val.shape[0], -1)\n",
        "\n",
        "print(\"Training Random Forest...\")\n",
        "rf_model = RandomForestClassifier(\n",
        "    n_estimators=100,\n",
        "    max_depth=None,\n",
        "    random_state=42,\n",
        "    n_jobs=-1\n",
        ")\n",
        "rf_model.fit(X_train_flat, y_train)\n",
        "\n",
        "y_pred = rf_model.predict(X_val_flat)"
      ]
    },
    {
      "cell_type": "code",
      "execution_count": null,
      "metadata": {},
      "outputs": [],
      "source": [
        "print(\"\\nValidation results:\")\n",
        "print(confusion_matrix(y_val, y_pred))\n",
        "print(classification_report(y_val, y_pred, digits=3))\n",
        "print(f\"Accuracy: {accuracy_score(y_val, y_pred):.3f}\")"
      ]
    },
    {
      "cell_type": "code",
      "execution_count": null,
      "metadata": {},
      "outputs": [],
      "source": [
        "# (pré-processamento, normalização, validação, modelagem, comparação)."
      ]
    },
    {
      "cell_type": "code",
      "execution_count": null,
      "metadata": {},
      "outputs": [],
      "source": [
        "# Random forest ?\n",
        "# SVN ?\n",
        "# CNN"
      ]
    }
  ],
  "metadata": {
    "colab": {
      "provenance": []
    },
    "kernelspec": {
      "display_name": "conda_rec_padroes",
      "language": "python",
      "name": "python3"
    },
    "language_info": {
      "codemirror_mode": {
        "name": "ipython",
        "version": 3
      },
      "file_extension": ".py",
      "mimetype": "text/x-python",
      "name": "python",
      "nbconvert_exporter": "python",
      "pygments_lexer": "ipython3",
      "version": "3.12.12"
    }
  },
  "nbformat": 4,
  "nbformat_minor": 0
}
