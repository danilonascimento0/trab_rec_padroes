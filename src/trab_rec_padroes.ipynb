{
  "cells": [
    {
      "cell_type": "markdown",
      "metadata": {
        "id": "9u9eSyRA_gPM"
      },
      "source": [
        "## Projeto\n",
        "Classificação binária - Real ou Deepfake.\n",
        "\n",
        "---\n",
        "\n",
        "Link do desafio no Kaggle:\n",
        "https://www.kaggle.com/competitions/image-classification-real-or-ai-generated-photo/data"
      ]
    },
    {
      "cell_type": "code",
      "execution_count": 65,
      "metadata": {},
      "outputs": [],
      "source": [
        "import os\n",
        "import pandas as pd"
      ]
    },
    {
      "cell_type": "markdown",
      "metadata": {},
      "source": [
        "### Open and investigate Dataset"
      ]
    },
    {
      "cell_type": "code",
      "execution_count": 66,
      "metadata": {},
      "outputs": [],
      "source": [
        "from pathlib import Path\n",
        "notebook_path = Path().resolve()\n",
        "\n",
        "dataset_base_path = notebook_path.parent / \"dataset/\"\n",
        "\n",
        "train_path = dataset_base_path / \"train/train\"\n",
        "test_path = dataset_base_path / \"test/test\"\n",
        "\n",
        "train_images = sorted(os.listdir(train_path), key=lambda x: int(os.path.splitext(x)[0]))\n",
        "test_images = sorted(os.listdir(test_path), key=lambda x: int(os.path.splitext(x)[0]))\n",
        "\n",
        "train_labels = pd.read_csv(dataset_base_path / \"train.csv\")\n",
        "test_labels = pd.read_csv(dataset_base_path / \"test.csv\")"
      ]
    },
    {
      "cell_type": "code",
      "execution_count": 67,
      "metadata": {},
      "outputs": [],
      "source": [
        "from PIL import Image\n",
        "import matplotlib.pyplot as plt\n",
        "import random"
      ]
    },
    {
      "cell_type": "code",
      "execution_count": 68,
      "metadata": {},
      "outputs": [],
      "source": [
        "def print_images(images, label, total_images = 6):\n",
        "    sample_images = random.sample(images, total_images)\n",
        "    \n",
        "    fig, axes = plt.subplots(1, total_images, figsize=(12, 2))\n",
        "    fig.suptitle(label, fontsize=16)\n",
        "    for ax, img_name in zip(axes.flatten(), sample_images):\n",
        "        img = Image.open(train_path / img_name)\n",
        "        ax.imshow(img)\n",
        "        ax.set_title(img_name)\n",
        "        ax.axis('off')\n",
        "\n",
        "    plt.tight_layout()\n",
        "    plt.show()"
      ]
    },
    {
      "cell_type": "code",
      "execution_count": null,
      "metadata": {},
      "outputs": [],
      "source": [
        "label_real_images = 1\n",
        "label_ai_generated = 0\n",
        "\n",
        "real_train_images = train_labels[train_labels['Label'] == label_real_images]['Image'].tolist()\n",
        "fake_train_images = train_labels[train_labels['Label'] == label_ai_generated]['Image'].tolist()\n",
        "\n",
        "print_images(images=real_train_images, label=\"Real\")\n",
        "print_images(images=fake_train_images, label=\"Ai-Gen\")"
      ]
    },
    {
      "cell_type": "code",
      "execution_count": null,
      "metadata": {},
      "outputs": [
        {
          "name": "stdout",
          "output_type": "stream",
          "text": [
            "Check class balacing\n",
            "{1: 478, 0: 467}\n",
            "\n",
            "Total for train: 945\n",
            "Total for test: 402\n",
            "\n",
            "Sample of Labels Table\n",
            "   Image  Label\n",
            "0  1.jpg      0\n",
            "1  2.jpg      0\n",
            "2  3.jpg      1\n",
            "3  4.jpg      1\n",
            "4  5.jpg      0\n"
          ]
        }
      ],
      "source": [
        "print(\"Check class balacing\")\n",
        "print(train_labels['Label'].value_counts().to_dict())\n",
        "\n",
        "print()\n",
        "print(f\"Train samples: {len(train_images)}\")\n",
        "print(f\"Test samples: {len(test_images)}\")\n",
        "\n",
        "print()\n",
        "print(\"Sample of Labels Table\")\n",
        "print(train_labels.head())"
      ]
    },
    {
      "cell_type": "code",
      "execution_count": 86,
      "metadata": {},
      "outputs": [
        {
          "data": {
            "image/png": "[encoded data removed]",
            "text/plain": [
              "<Figure size 640x480 with 1 Axes>"
            ]
          },
          "metadata": {},
          "output_type": "display_data"
        }
      ],
      "source": [
        "train_labels['Label'].value_counts().plot(kind='bar', color=['green', 'red'])\n",
        "plt.title(\"Distribution of Classes in Train Set\")\n",
        "plt.xlabel(\"Label\")\n",
        "plt.ylabel(\"Number of Images\")\n",
        "plt.xticks([0,1], ['Real (0)', 'AI-Generated (1)'], rotation=0)\n",
        "plt.show()"
      ]
    },
    {
      "cell_type": "markdown",
      "metadata": {},
      "source": [
        "#### Pre-processamento"
      ]
    },
    {
      "cell_type": "code",
      "execution_count": null,
      "metadata": {
        "id": "CSS8RIpysBxk"
      },
      "outputs": [],
      "source": [
        "# Dividir em treino e validação (teste esta separado)"
      ]
    },
    {
      "cell_type": "code",
      "execution_count": null,
      "metadata": {},
      "outputs": [],
      "source": [
        "# (pré-processamento, normalização, validação, modelagem, comparação)."
      ]
    }
  ],
  "metadata": {
    "colab": {
      "provenance": []
    },
    "kernelspec": {
      "display_name": ".venv",
      "language": "python",
      "name": "python3"
    },
    "language_info": {
      "codemirror_mode": {
        "name": "ipython",
        "version": 3
      },
      "file_extension": ".py",
      "mimetype": "text/x-python",
      "name": "python",
      "nbconvert_exporter": "python",
      "pygments_lexer": "ipython3",
      "version": "3.13.3"
    }
  },
  "nbformat": 4,
  "nbformat_minor": 0
}
